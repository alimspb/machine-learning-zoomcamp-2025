{
 "cells": [
  {
   "cell_type": "code",
   "id": "initial_id",
   "metadata": {
    "collapsed": true,
    "ExecuteTime": {
     "end_time": "2025-10-05T13:19:13.486443Z",
     "start_time": "2025-10-05T13:19:13.483432Z"
    }
   },
   "source": [
    "import pandas as pd\n",
    "import numpy as np\n",
    "import matplotlib as mpl\n",
    "import seaborn as sb\n",
    "import requests\n"
   ],
   "outputs": [],
   "execution_count": 30
  },
  {
   "metadata": {
    "ExecuteTime": {
     "end_time": "2025-10-05T13:19:14.963231Z",
     "start_time": "2025-10-05T13:19:14.897256Z"
    }
   },
   "cell_type": "code",
   "source": "print(pd.__version__)\n",
   "id": "dbb87b159d356b41",
   "outputs": [
    {
     "name": "stdout",
     "output_type": "stream",
     "text": [
      "2.3.3\n"
     ]
    }
   ],
   "execution_count": 31
  },
  {
   "metadata": {
    "ExecuteTime": {
     "end_time": "2025-10-05T13:19:16.385289Z",
     "start_time": "2025-10-05T13:19:15.696071Z"
    }
   },
   "cell_type": "code",
   "source": [
    "url = \"https://raw.githubusercontent.com/alexeygrigorev/datasets/master/car_fuel_efficiency.csv\"\n",
    "r = requests.get(url)\n",
    "\n",
    "with open(\"car_fuel_efficiency.csv\", \"wb\") as f:\n",
    "    f.write(r.content)"
   ],
   "id": "7f9ec19f0805bf98",
   "outputs": [],
   "execution_count": 32
  },
  {
   "metadata": {
    "ExecuteTime": {
     "end_time": "2025-10-05T13:19:17.221756Z",
     "start_time": "2025-10-05T13:19:17.207500Z"
    }
   },
   "cell_type": "code",
   "source": [
    "df = pd.read_csv(\"car_fuel_efficiency.csv\")\n",
    "print(df.shape) # shows number of rows and columns\n",
    "print(df.head()) # shows first 5 rows as an example"
   ],
   "id": "d4f7b2a58ab5973e",
   "outputs": [
    {
     "name": "stdout",
     "output_type": "stream",
     "text": [
      "(9704, 11)\n",
      "   engine_displacement  num_cylinders  horsepower  vehicle_weight  \\\n",
      "0                  170            3.0       159.0     3413.433759   \n",
      "1                  130            5.0        97.0     3149.664934   \n",
      "2                  170            NaN        78.0     3079.038997   \n",
      "3                  220            4.0         NaN     2542.392402   \n",
      "4                  210            1.0       140.0     3460.870990   \n",
      "\n",
      "   acceleration  model_year  origin fuel_type         drivetrain  num_doors  \\\n",
      "0          17.7        2003  Europe  Gasoline    All-wheel drive        0.0   \n",
      "1          17.8        2007     USA  Gasoline  Front-wheel drive        0.0   \n",
      "2          15.1        2018  Europe  Gasoline  Front-wheel drive        0.0   \n",
      "3          20.2        2009     USA    Diesel    All-wheel drive        2.0   \n",
      "4          14.4        2009  Europe  Gasoline    All-wheel drive        2.0   \n",
      "\n",
      "   fuel_efficiency_mpg  \n",
      "0            13.231729  \n",
      "1            13.688217  \n",
      "2            14.246341  \n",
      "3            16.912736  \n",
      "4            12.488369  \n"
     ]
    }
   ],
   "execution_count": 33
  },
  {
   "metadata": {
    "ExecuteTime": {
     "end_time": "2025-10-05T13:19:19.443435Z",
     "start_time": "2025-10-05T13:19:19.440100Z"
    }
   },
   "cell_type": "code",
   "source": [
    "fuel_types = df[\"fuel_type\"].unique()\n",
    "print(fuel_types)"
   ],
   "id": "a8ff010289e1b4ed",
   "outputs": [
    {
     "name": "stdout",
     "output_type": "stream",
     "text": [
      "['Gasoline' 'Diesel']\n"
     ]
    }
   ],
   "execution_count": 34
  },
  {
   "metadata": {
    "ExecuteTime": {
     "end_time": "2025-10-05T13:19:20.998102Z",
     "start_time": "2025-10-05T13:19:20.988312Z"
    }
   },
   "cell_type": "code",
   "source": [
    "# Check for missing values\n",
    "missing_counts = df.isnull().sum()\n",
    "missing_counts"
   ],
   "id": "a409fa6833542a3e",
   "outputs": [
    {
     "data": {
      "text/plain": [
       "engine_displacement      0\n",
       "num_cylinders          482\n",
       "horsepower             708\n",
       "vehicle_weight           0\n",
       "acceleration           930\n",
       "model_year               0\n",
       "origin                   0\n",
       "fuel_type                0\n",
       "drivetrain               0\n",
       "num_doors              502\n",
       "fuel_efficiency_mpg      0\n",
       "dtype: int64"
      ]
     },
     "execution_count": 35,
     "metadata": {},
     "output_type": "execute_result"
    }
   ],
   "execution_count": 35
  },
  {
   "metadata": {
    "ExecuteTime": {
     "end_time": "2025-10-05T13:19:23.938095Z",
     "start_time": "2025-10-05T13:19:23.923210Z"
    }
   },
   "cell_type": "code",
   "source": [
    "# Check all unique values in the Origin column\n",
    "origin_values = df[\"origin\"].unique()\n",
    "print(origin_values)\n",
    "\n",
    "# Filter only Asian cars\n",
    "asia_cars = df[df[\"origin\"] == 'Asia']\n",
    "\n",
    "# Find the maximum fuel efficiency (mpg)\n",
    "max_mpg_asia = asia_cars[\"fuel_efficiency_mpg\"].max()\n",
    "print(\"Maximum fuel efficiency (Asia):\", max_mpg_asia)"
   ],
   "id": "40fb0da1dd60ec5d",
   "outputs": [
    {
     "name": "stdout",
     "output_type": "stream",
     "text": [
      "['Europe' 'USA' 'Asia']\n",
      "Maximum fuel efficiency (Asia): 23.759122836520497\n"
     ]
    }
   ],
   "execution_count": 36
  },
  {
   "metadata": {
    "ExecuteTime": {
     "end_time": "2025-10-05T13:19:29.211473Z",
     "start_time": "2025-10-05T13:19:29.195598Z"
    }
   },
   "cell_type": "code",
   "source": [
    "'''\n",
    "Q6. Median value of horsepower\n",
    "1. Find the median value of horsepower column in the dataset.\n",
    "2. Next, calculate the most frequent value of the same horsepower column.\n",
    "3. Use fillna method to fill the missing values in horsepower column with the most frequent value from the previous step.\n",
    "4. Now, calculate the median value of horsepower once again.\n",
    "5. Has it changed?\n",
    "- Yes, it increased\n",
    "- Yes, it decreased\n",
    "- No\n",
    "'''\n",
    "\n",
    "med_horsepower = np.nanmedian(df[\"horsepower\"])\n",
    "print(\"The median value of horsepower column\", med_horsepower)\n",
    "\n",
    "most_frequent_hp = df[\"horsepower\"].mode()[0]\n",
    "print(\"Most frequent horsepower value:\", most_frequent_hp)\n",
    "\n",
    "df[\"horsepower\"].fillna(most_frequent_hp, inplace=True)\n",
    "print(df[\"horsepower\"].isnull().sum())\n",
    "\n",
    "med_horsepower_updated = np.median(df[\"horsepower\"])\n",
    "print(\"The updated median value of horsepower column\", med_horsepower_updated)\n"
   ],
   "id": "16e92cf4e7dee3b8",
   "outputs": [
    {
     "name": "stdout",
     "output_type": "stream",
     "text": [
      "The median value of horsepower column 149.0\n",
      "Most frequent horsepower value: 152.0\n",
      "0\n",
      "The updated median value of horsepower column 152.0\n"
     ]
    },
    {
     "name": "stderr",
     "output_type": "stream",
     "text": [
      "/var/folders/mv/cmrv3brx10z36ly18v7630080000gn/T/ipykernel_27144/799189993.py:19: FutureWarning: A value is trying to be set on a copy of a DataFrame or Series through chained assignment using an inplace method.\n",
      "The behavior will change in pandas 3.0. This inplace method will never work because the intermediate object on which we are setting values always behaves as a copy.\n",
      "\n",
      "For example, when doing 'df[col].method(value, inplace=True)', try using 'df.method({col: value}, inplace=True)' or df[col] = df[col].method(value) instead, to perform the operation inplace on the original object.\n",
      "\n",
      "\n",
      "  df[\"horsepower\"].fillna(most_frequent_hp, inplace=True)\n"
     ]
    }
   ],
   "execution_count": 37
  },
  {
   "metadata": {},
   "cell_type": "code",
   "outputs": [],
   "execution_count": null,
   "source": [
    "'''\n",
    "Q7. Sum of weights\n",
    "1. Select all the cars from Asia\n",
    "2. Select only columns vehicle_weight and model_year\n",
    "3. Select the first 7 values\n",
    "4. Get the underlying NumPy array. Let's call it X.\n",
    "5. Compute matrix-matrix multiplication between the transpose of X and X. To get the transpose, use X.T. Let's call the result XTX.\n",
    "6. Invert XTX.\n",
    "7. Create an array y with values [1100, 1300, 800, 900, 1000, 1100, 1200].\n",
    "8. Multiply the inverse of XTX with the transpose of X, and then multiply the result by y. Call the result w.\n",
    "9. What's the sum of all the elements of the result?\n",
    "Note: You just implemented linear regression. We'll talk about it in the next lesson.\n",
    "\n",
    "0.051\n",
    "0.51\n",
    "5.1\n",
    "51\n",
    "'''"
   ],
   "id": "94a1e1363bf99683"
  },
  {
   "metadata": {
    "ExecuteTime": {
     "end_time": "2025-10-05T18:13:44.000614Z",
     "start_time": "2025-10-05T18:13:43.876592Z"
    }
   },
   "cell_type": "code",
   "source": [
    "# selecting all the cars from Asia\n",
    "asian_cars = df[df[\"origin\"] == \"Asia\"].copy()"
   ],
   "id": "ac06d4d7882b308f",
   "outputs": [],
   "execution_count": 38
  },
  {
   "metadata": {
    "ExecuteTime": {
     "end_time": "2025-10-05T18:14:13.642612Z",
     "start_time": "2025-10-05T18:14:13.619224Z"
    }
   },
   "cell_type": "code",
   "source": [
    "# selecting only columns vehicle_weight and model_year\n",
    "asian_cars = asia_cars[[\"vehicle_weight\", \"model_year\"]]"
   ],
   "id": "428adf54868ba957",
   "outputs": [],
   "execution_count": 39
  },
  {
   "metadata": {
    "ExecuteTime": {
     "end_time": "2025-10-05T18:14:49.023163Z",
     "start_time": "2025-10-05T18:14:48.980395Z"
    }
   },
   "cell_type": "code",
   "source": [
    "# selecting the first 7 values\n",
    "asian_cars_head_7 = asian_cars.head(7)\n",
    "print(asian_cars_head_7)"
   ],
   "id": "a944a7eef95af81e",
   "outputs": [
    {
     "name": "stdout",
     "output_type": "stream",
     "text": [
      "    vehicle_weight  model_year\n",
      "8      2714.219310        2016\n",
      "12     2783.868974        2010\n",
      "14     3582.687368        2007\n",
      "20     2231.808142        2011\n",
      "21     2659.431451        2016\n",
      "34     2844.227534        2014\n",
      "38     3761.994038        2019\n"
     ]
    }
   ],
   "execution_count": 41
  },
  {
   "metadata": {
    "ExecuteTime": {
     "end_time": "2025-10-05T18:23:32.426827Z",
     "start_time": "2025-10-05T18:23:32.410762Z"
    }
   },
   "cell_type": "code",
   "source": [
    "# underlying NumPy array X\n",
    "X = asian_cars_head_7.to_numpy()  # shape (7, 2)\n",
    "print(X)"
   ],
   "id": "f4e0c539ad9d4d89",
   "outputs": [
    {
     "name": "stdout",
     "output_type": "stream",
     "text": [
      "[[2714.21930965 2016.        ]\n",
      " [2783.86897424 2010.        ]\n",
      " [3582.68736772 2007.        ]\n",
      " [2231.8081416  2011.        ]\n",
      " [2659.43145076 2016.        ]\n",
      " [2844.22753389 2014.        ]\n",
      " [3761.99403819 2019.        ]]\n"
     ]
    }
   ],
   "execution_count": 43
  },
  {
   "metadata": {
    "ExecuteTime": {
     "end_time": "2025-10-05T18:23:51.725386Z",
     "start_time": "2025-10-05T18:23:51.717274Z"
    }
   },
   "cell_type": "code",
   "source": [
    "# XTX = X^T X\n",
    "XTX = X.T @ X\n",
    "print(XTX)"
   ],
   "id": "71e4ce493aec4ee7",
   "outputs": [
    {
     "name": "stdout",
     "output_type": "stream",
     "text": [
      "[[62248334.33150761 41431216.5073268 ]\n",
      " [41431216.5073268  28373339.        ]]\n"
     ]
    }
   ],
   "execution_count": 44
  },
  {
   "metadata": {
    "ExecuteTime": {
     "end_time": "2025-10-05T18:44:06.380555Z",
     "start_time": "2025-10-05T18:44:06.330503Z"
    }
   },
   "cell_type": "code",
   "source": [
    "# initialising y\n",
    "y = np.array([1100, 1300, 800, 900, 1000, 1100, 1200])"
   ],
   "id": "6562285a297b3481",
   "outputs": [],
   "execution_count": 45
  },
  {
   "metadata": {
    "ExecuteTime": {
     "end_time": "2025-10-05T18:45:15.683911Z",
     "start_time": "2025-10-05T18:45:15.667582Z"
    }
   },
   "cell_type": "code",
   "source": [
    "# inverting XTX\n",
    "XTX_inv = np.linalg.inv(XTX)\n",
    "print(XTX_inv)"
   ],
   "id": "571b3b3c54146090",
   "outputs": [
    {
     "name": "stdout",
     "output_type": "stream",
     "text": [
      "[[ 5.71497081e-07 -8.34509443e-07]\n",
      " [-8.34509443e-07  1.25380877e-06]]\n"
     ]
    }
   ],
   "execution_count": 47
  },
  {
   "metadata": {
    "ExecuteTime": {
     "end_time": "2025-10-05T18:45:29.840677Z",
     "start_time": "2025-10-05T18:45:29.825114Z"
    }
   },
   "cell_type": "code",
   "source": [
    "# getting w = (X^T X)^{-1} X^T y\n",
    "w = XTX_inv @ X.T @ y  # shape (2,)\n",
    "print(w)"
   ],
   "id": "c87ec60c07de134a",
   "outputs": [
    {
     "name": "stdout",
     "output_type": "stream",
     "text": [
      "[0.01386421 0.5049067 ]\n"
     ]
    }
   ],
   "execution_count": 49
  },
  {
   "metadata": {
    "ExecuteTime": {
     "end_time": "2025-10-05T18:45:54.504344Z",
     "start_time": "2025-10-05T18:45:54.496774Z"
    }
   },
   "cell_type": "code",
   "source": [
    "# final result\n",
    "w_sum = w.sum()\n",
    "print(\"w:\", w)\n",
    "print(\"Sum of elements of w:\", w_sum)"
   ],
   "id": "5d08d81a5806fd6d",
   "outputs": [
    {
     "name": "stdout",
     "output_type": "stream",
     "text": [
      "w: [0.01386421 0.5049067 ]\n",
      "Sum of elements of w: 0.5187709081074006\n"
     ]
    }
   ],
   "execution_count": 50
  }
 ],
 "metadata": {
  "kernelspec": {
   "display_name": "Python 3",
   "language": "python",
   "name": "python3"
  },
  "language_info": {
   "codemirror_mode": {
    "name": "ipython",
    "version": 2
   },
   "file_extension": ".py",
   "mimetype": "text/x-python",
   "name": "python",
   "nbconvert_exporter": "python",
   "pygments_lexer": "ipython2",
   "version": "2.7.6"
  }
 },
 "nbformat": 4,
 "nbformat_minor": 5
}
